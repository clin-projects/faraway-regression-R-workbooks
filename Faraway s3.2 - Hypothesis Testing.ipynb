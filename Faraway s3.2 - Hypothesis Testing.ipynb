{
 "cells": [
  {
   "cell_type": "markdown",
   "metadata": {},
   "source": [
    "# Workbook follows Section 3.2 of [Faraway 2002](https://cran.r-project.org/doc/contrib/Faraway-PRA.pdf)\n",
    "\n",
    "Economic data taken from [the accompanying R package](https://cran.r-project.org/web/packages/faraway/)\n",
    "\n",
    "Originally from Belsley, Kuh, and Welsch (1980)"
   ]
  },
  {
   "cell_type": "code",
   "execution_count": 40,
   "metadata": {},
   "outputs": [],
   "source": [
    "# global change of figure sizes\n",
    "# following: http://blog.revolutionanalytics.com/2015/09/resizing-plots-in-the-r-kernel-for-jupyter-notebooks.html\n",
    "\n",
    "library(repr)\n",
    "\n",
    "options(repr.plot.width = 4, repr.plot.height = 3)"
   ]
  },
  {
   "cell_type": "markdown",
   "metadata": {},
   "source": [
    "**3.2.1. F test on all predictors.** test against null hypothesis that $\\left\\{\\beta_i\\right\\} = 0$"
   ]
  },
  {
   "cell_type": "code",
   "execution_count": 41,
   "metadata": {},
   "outputs": [
    {
     "data": {
      "text/html": [
       "<table>\n",
       "<thead><tr><th></th><th scope=col>sr</th><th scope=col>pop15</th><th scope=col>pop75</th><th scope=col>dpi</th><th scope=col>ddpi</th></tr></thead>\n",
       "<tbody>\n",
       "\t<tr><th scope=row>Australia</th><td>11.43  </td><td>29.35  </td><td>2.87   </td><td>2329.68</td><td> 2.87  </td></tr>\n",
       "\t<tr><th scope=row>Austria</th><td>12.07  </td><td>23.32  </td><td>4.41   </td><td>1507.99</td><td> 3.93  </td></tr>\n",
       "\t<tr><th scope=row>Belgium</th><td>13.17  </td><td>23.80  </td><td>4.43   </td><td>2108.47</td><td> 3.82  </td></tr>\n",
       "\t<tr><th scope=row>Bolivia</th><td> 5.75  </td><td>41.89  </td><td>1.67   </td><td> 189.13</td><td> 0.22  </td></tr>\n",
       "\t<tr><th scope=row>Brazil</th><td>12.88  </td><td>42.19  </td><td>0.83   </td><td> 728.47</td><td> 4.56  </td></tr>\n",
       "\t<tr><th scope=row>Canada</th><td> 8.79  </td><td>31.72  </td><td>2.85   </td><td>2982.88</td><td> 2.43  </td></tr>\n",
       "\t<tr><th scope=row>Chile</th><td> 0.60  </td><td>39.74  </td><td>1.34   </td><td> 662.86</td><td> 2.67  </td></tr>\n",
       "\t<tr><th scope=row>China</th><td>11.90  </td><td>44.75  </td><td>0.67   </td><td> 289.52</td><td> 6.51  </td></tr>\n",
       "\t<tr><th scope=row>Colombia</th><td> 4.98  </td><td>46.64  </td><td>1.06   </td><td> 276.65</td><td> 3.08  </td></tr>\n",
       "\t<tr><th scope=row>Costa Rica</th><td>10.78  </td><td>47.64  </td><td>1.14   </td><td> 471.24</td><td> 2.80  </td></tr>\n",
       "\t<tr><th scope=row>Denmark</th><td>16.85  </td><td>24.42  </td><td>3.93   </td><td>2496.53</td><td> 3.99  </td></tr>\n",
       "\t<tr><th scope=row>Ecuador</th><td> 3.59  </td><td>46.31  </td><td>1.19   </td><td> 287.77</td><td> 2.19  </td></tr>\n",
       "\t<tr><th scope=row>Finland</th><td>11.24  </td><td>27.84  </td><td>2.37   </td><td>1681.25</td><td> 4.32  </td></tr>\n",
       "\t<tr><th scope=row>France</th><td>12.64  </td><td>25.06  </td><td>4.70   </td><td>2213.82</td><td> 4.52  </td></tr>\n",
       "\t<tr><th scope=row>Germany</th><td>12.55  </td><td>23.31  </td><td>3.35   </td><td>2457.12</td><td> 3.44  </td></tr>\n",
       "\t<tr><th scope=row>Greece</th><td>10.67  </td><td>25.62  </td><td>3.10   </td><td> 870.85</td><td> 6.28  </td></tr>\n",
       "\t<tr><th scope=row>Guatamala</th><td> 3.01  </td><td>46.05  </td><td>0.87   </td><td> 289.71</td><td> 1.48  </td></tr>\n",
       "\t<tr><th scope=row>Honduras</th><td> 7.70  </td><td>47.32  </td><td>0.58   </td><td> 232.44</td><td> 3.19  </td></tr>\n",
       "\t<tr><th scope=row>Iceland</th><td> 1.27  </td><td>34.03  </td><td>3.08   </td><td>1900.10</td><td> 1.12  </td></tr>\n",
       "\t<tr><th scope=row>India</th><td> 9.00  </td><td>41.31  </td><td>0.96   </td><td>  88.94</td><td> 1.54  </td></tr>\n",
       "\t<tr><th scope=row>Ireland</th><td>11.34  </td><td>31.16  </td><td>4.19   </td><td>1139.95</td><td> 2.99  </td></tr>\n",
       "\t<tr><th scope=row>Italy</th><td>14.28  </td><td>24.52  </td><td>3.48   </td><td>1390.00</td><td> 3.54  </td></tr>\n",
       "\t<tr><th scope=row>Japan</th><td>21.10  </td><td>27.01  </td><td>1.91   </td><td>1257.28</td><td> 8.21  </td></tr>\n",
       "\t<tr><th scope=row>Korea</th><td> 3.98  </td><td>41.74  </td><td>0.91   </td><td> 207.68</td><td> 5.81  </td></tr>\n",
       "\t<tr><th scope=row>Luxembourg</th><td>10.35  </td><td>21.80  </td><td>3.73   </td><td>2449.39</td><td> 1.57  </td></tr>\n",
       "\t<tr><th scope=row>Malta</th><td>15.48  </td><td>32.54  </td><td>2.47   </td><td> 601.05</td><td> 8.12  </td></tr>\n",
       "\t<tr><th scope=row>Norway</th><td>10.25  </td><td>25.95  </td><td>3.67   </td><td>2231.03</td><td> 3.62  </td></tr>\n",
       "\t<tr><th scope=row>Netherlands</th><td>14.65  </td><td>24.71  </td><td>3.25   </td><td>1740.70</td><td> 7.66  </td></tr>\n",
       "\t<tr><th scope=row>New Zealand</th><td>10.67  </td><td>32.61  </td><td>3.17   </td><td>1487.52</td><td> 1.76  </td></tr>\n",
       "\t<tr><th scope=row>Nicaragua</th><td> 7.30  </td><td>45.04  </td><td>1.21   </td><td> 325.54</td><td> 2.48  </td></tr>\n",
       "\t<tr><th scope=row>Panama</th><td> 4.44  </td><td>43.56  </td><td>1.20   </td><td> 568.56</td><td> 3.61  </td></tr>\n",
       "\t<tr><th scope=row>Paraguay</th><td> 2.02  </td><td>41.18  </td><td>1.05   </td><td> 220.56</td><td> 1.03  </td></tr>\n",
       "\t<tr><th scope=row>Peru</th><td>12.70  </td><td>44.19  </td><td>1.28   </td><td> 400.06</td><td> 0.67  </td></tr>\n",
       "\t<tr><th scope=row>Philippines</th><td>12.78  </td><td>46.26  </td><td>1.12   </td><td> 152.01</td><td> 2.00  </td></tr>\n",
       "\t<tr><th scope=row>Portugal</th><td>12.49  </td><td>28.96  </td><td>2.85   </td><td> 579.51</td><td> 7.48  </td></tr>\n",
       "\t<tr><th scope=row>South Africa</th><td>11.14  </td><td>31.94  </td><td>2.28   </td><td> 651.11</td><td> 2.19  </td></tr>\n",
       "\t<tr><th scope=row>South Rhodesia</th><td>13.30  </td><td>31.92  </td><td>1.52   </td><td> 250.96</td><td> 2.00  </td></tr>\n",
       "\t<tr><th scope=row>Spain</th><td>11.77  </td><td>27.74  </td><td>2.87   </td><td> 768.79</td><td> 4.35  </td></tr>\n",
       "\t<tr><th scope=row>Sweden</th><td> 6.86  </td><td>21.44  </td><td>4.54   </td><td>3299.49</td><td> 3.01  </td></tr>\n",
       "\t<tr><th scope=row>Switzerland</th><td>14.13  </td><td>23.49  </td><td>3.73   </td><td>2630.96</td><td> 2.70  </td></tr>\n",
       "\t<tr><th scope=row>Turkey</th><td> 5.13  </td><td>43.42  </td><td>1.08   </td><td> 389.66</td><td> 2.96  </td></tr>\n",
       "\t<tr><th scope=row>Tunisia</th><td> 2.81  </td><td>46.12  </td><td>1.21   </td><td> 249.87</td><td> 1.13  </td></tr>\n",
       "\t<tr><th scope=row>United Kingdom</th><td> 7.81  </td><td>23.27  </td><td>4.46   </td><td>1813.93</td><td> 2.01  </td></tr>\n",
       "\t<tr><th scope=row>United States</th><td> 7.56  </td><td>29.81  </td><td>3.43   </td><td>4001.89</td><td> 2.45  </td></tr>\n",
       "\t<tr><th scope=row>Venezuela</th><td> 9.22  </td><td>46.40  </td><td>0.90   </td><td> 813.39</td><td> 0.53  </td></tr>\n",
       "\t<tr><th scope=row>Zambia</th><td>18.56  </td><td>45.25  </td><td>0.56   </td><td> 138.33</td><td> 5.14  </td></tr>\n",
       "\t<tr><th scope=row>Jamaica</th><td> 7.72  </td><td>41.12  </td><td>1.73   </td><td> 380.47</td><td>10.23  </td></tr>\n",
       "\t<tr><th scope=row>Uruguay</th><td> 9.24  </td><td>28.13  </td><td>2.72   </td><td> 766.54</td><td> 1.88  </td></tr>\n",
       "\t<tr><th scope=row>Libya</th><td> 8.89  </td><td>43.69  </td><td>2.07   </td><td> 123.58</td><td>16.71  </td></tr>\n",
       "\t<tr><th scope=row>Malaysia</th><td> 4.71  </td><td>47.20  </td><td>0.66   </td><td> 242.69</td><td> 5.08  </td></tr>\n",
       "</tbody>\n",
       "</table>\n"
      ],
      "text/latex": [
       "\\begin{tabular}{r|lllll}\n",
       "  & sr & pop15 & pop75 & dpi & ddpi\\\\\n",
       "\\hline\n",
       "\tAustralia & 11.43   & 29.35   & 2.87    & 2329.68 &  2.87  \\\\\n",
       "\tAustria & 12.07   & 23.32   & 4.41    & 1507.99 &  3.93  \\\\\n",
       "\tBelgium & 13.17   & 23.80   & 4.43    & 2108.47 &  3.82  \\\\\n",
       "\tBolivia &  5.75   & 41.89   & 1.67    &  189.13 &  0.22  \\\\\n",
       "\tBrazil & 12.88   & 42.19   & 0.83    &  728.47 &  4.56  \\\\\n",
       "\tCanada &  8.79   & 31.72   & 2.85    & 2982.88 &  2.43  \\\\\n",
       "\tChile &  0.60   & 39.74   & 1.34    &  662.86 &  2.67  \\\\\n",
       "\tChina & 11.90   & 44.75   & 0.67    &  289.52 &  6.51  \\\\\n",
       "\tColombia &  4.98   & 46.64   & 1.06    &  276.65 &  3.08  \\\\\n",
       "\tCosta Rica & 10.78   & 47.64   & 1.14    &  471.24 &  2.80  \\\\\n",
       "\tDenmark & 16.85   & 24.42   & 3.93    & 2496.53 &  3.99  \\\\\n",
       "\tEcuador &  3.59   & 46.31   & 1.19    &  287.77 &  2.19  \\\\\n",
       "\tFinland & 11.24   & 27.84   & 2.37    & 1681.25 &  4.32  \\\\\n",
       "\tFrance & 12.64   & 25.06   & 4.70    & 2213.82 &  4.52  \\\\\n",
       "\tGermany & 12.55   & 23.31   & 3.35    & 2457.12 &  3.44  \\\\\n",
       "\tGreece & 10.67   & 25.62   & 3.10    &  870.85 &  6.28  \\\\\n",
       "\tGuatamala &  3.01   & 46.05   & 0.87    &  289.71 &  1.48  \\\\\n",
       "\tHonduras &  7.70   & 47.32   & 0.58    &  232.44 &  3.19  \\\\\n",
       "\tIceland &  1.27   & 34.03   & 3.08    & 1900.10 &  1.12  \\\\\n",
       "\tIndia &  9.00   & 41.31   & 0.96    &   88.94 &  1.54  \\\\\n",
       "\tIreland & 11.34   & 31.16   & 4.19    & 1139.95 &  2.99  \\\\\n",
       "\tItaly & 14.28   & 24.52   & 3.48    & 1390.00 &  3.54  \\\\\n",
       "\tJapan & 21.10   & 27.01   & 1.91    & 1257.28 &  8.21  \\\\\n",
       "\tKorea &  3.98   & 41.74   & 0.91    &  207.68 &  5.81  \\\\\n",
       "\tLuxembourg & 10.35   & 21.80   & 3.73    & 2449.39 &  1.57  \\\\\n",
       "\tMalta & 15.48   & 32.54   & 2.47    &  601.05 &  8.12  \\\\\n",
       "\tNorway & 10.25   & 25.95   & 3.67    & 2231.03 &  3.62  \\\\\n",
       "\tNetherlands & 14.65   & 24.71   & 3.25    & 1740.70 &  7.66  \\\\\n",
       "\tNew Zealand & 10.67   & 32.61   & 3.17    & 1487.52 &  1.76  \\\\\n",
       "\tNicaragua &  7.30   & 45.04   & 1.21    &  325.54 &  2.48  \\\\\n",
       "\tPanama &  4.44   & 43.56   & 1.20    &  568.56 &  3.61  \\\\\n",
       "\tParaguay &  2.02   & 41.18   & 1.05    &  220.56 &  1.03  \\\\\n",
       "\tPeru & 12.70   & 44.19   & 1.28    &  400.06 &  0.67  \\\\\n",
       "\tPhilippines & 12.78   & 46.26   & 1.12    &  152.01 &  2.00  \\\\\n",
       "\tPortugal & 12.49   & 28.96   & 2.85    &  579.51 &  7.48  \\\\\n",
       "\tSouth Africa & 11.14   & 31.94   & 2.28    &  651.11 &  2.19  \\\\\n",
       "\tSouth Rhodesia & 13.30   & 31.92   & 1.52    &  250.96 &  2.00  \\\\\n",
       "\tSpain & 11.77   & 27.74   & 2.87    &  768.79 &  4.35  \\\\\n",
       "\tSweden &  6.86   & 21.44   & 4.54    & 3299.49 &  3.01  \\\\\n",
       "\tSwitzerland & 14.13   & 23.49   & 3.73    & 2630.96 &  2.70  \\\\\n",
       "\tTurkey &  5.13   & 43.42   & 1.08    &  389.66 &  2.96  \\\\\n",
       "\tTunisia &  2.81   & 46.12   & 1.21    &  249.87 &  1.13  \\\\\n",
       "\tUnited Kingdom &  7.81   & 23.27   & 4.46    & 1813.93 &  2.01  \\\\\n",
       "\tUnited States &  7.56   & 29.81   & 3.43    & 4001.89 &  2.45  \\\\\n",
       "\tVenezuela &  9.22   & 46.40   & 0.90    &  813.39 &  0.53  \\\\\n",
       "\tZambia & 18.56   & 45.25   & 0.56    &  138.33 &  5.14  \\\\\n",
       "\tJamaica &  7.72   & 41.12   & 1.73    &  380.47 & 10.23  \\\\\n",
       "\tUruguay &  9.24   & 28.13   & 2.72    &  766.54 &  1.88  \\\\\n",
       "\tLibya &  8.89   & 43.69   & 2.07    &  123.58 & 16.71  \\\\\n",
       "\tMalaysia &  4.71   & 47.20   & 0.66    &  242.69 &  5.08  \\\\\n",
       "\\end{tabular}\n"
      ],
      "text/markdown": [
       "\n",
       "| <!--/--> | sr | pop15 | pop75 | dpi | ddpi | \n",
       "|---|---|---|---|---|---|---|---|---|---|---|---|---|---|---|---|---|---|---|---|---|---|---|---|---|---|---|---|---|---|---|---|---|---|---|---|---|---|---|---|---|---|---|---|---|---|---|---|---|---|\n",
       "| Australia | 11.43   | 29.35   | 2.87    | 2329.68 |  2.87   | \n",
       "| Austria | 12.07   | 23.32   | 4.41    | 1507.99 |  3.93   | \n",
       "| Belgium | 13.17   | 23.80   | 4.43    | 2108.47 |  3.82   | \n",
       "| Bolivia |  5.75   | 41.89   | 1.67    |  189.13 |  0.22   | \n",
       "| Brazil | 12.88   | 42.19   | 0.83    |  728.47 |  4.56   | \n",
       "| Canada |  8.79   | 31.72   | 2.85    | 2982.88 |  2.43   | \n",
       "| Chile |  0.60   | 39.74   | 1.34    |  662.86 |  2.67   | \n",
       "| China | 11.90   | 44.75   | 0.67    |  289.52 |  6.51   | \n",
       "| Colombia |  4.98   | 46.64   | 1.06    |  276.65 |  3.08   | \n",
       "| Costa Rica | 10.78   | 47.64   | 1.14    |  471.24 |  2.80   | \n",
       "| Denmark | 16.85   | 24.42   | 3.93    | 2496.53 |  3.99   | \n",
       "| Ecuador |  3.59   | 46.31   | 1.19    |  287.77 |  2.19   | \n",
       "| Finland | 11.24   | 27.84   | 2.37    | 1681.25 |  4.32   | \n",
       "| France | 12.64   | 25.06   | 4.70    | 2213.82 |  4.52   | \n",
       "| Germany | 12.55   | 23.31   | 3.35    | 2457.12 |  3.44   | \n",
       "| Greece | 10.67   | 25.62   | 3.10    |  870.85 |  6.28   | \n",
       "| Guatamala |  3.01   | 46.05   | 0.87    |  289.71 |  1.48   | \n",
       "| Honduras |  7.70   | 47.32   | 0.58    |  232.44 |  3.19   | \n",
       "| Iceland |  1.27   | 34.03   | 3.08    | 1900.10 |  1.12   | \n",
       "| India |  9.00   | 41.31   | 0.96    |   88.94 |  1.54   | \n",
       "| Ireland | 11.34   | 31.16   | 4.19    | 1139.95 |  2.99   | \n",
       "| Italy | 14.28   | 24.52   | 3.48    | 1390.00 |  3.54   | \n",
       "| Japan | 21.10   | 27.01   | 1.91    | 1257.28 |  8.21   | \n",
       "| Korea |  3.98   | 41.74   | 0.91    |  207.68 |  5.81   | \n",
       "| Luxembourg | 10.35   | 21.80   | 3.73    | 2449.39 |  1.57   | \n",
       "| Malta | 15.48   | 32.54   | 2.47    |  601.05 |  8.12   | \n",
       "| Norway | 10.25   | 25.95   | 3.67    | 2231.03 |  3.62   | \n",
       "| Netherlands | 14.65   | 24.71   | 3.25    | 1740.70 |  7.66   | \n",
       "| New Zealand | 10.67   | 32.61   | 3.17    | 1487.52 |  1.76   | \n",
       "| Nicaragua |  7.30   | 45.04   | 1.21    |  325.54 |  2.48   | \n",
       "| Panama |  4.44   | 43.56   | 1.20    |  568.56 |  3.61   | \n",
       "| Paraguay |  2.02   | 41.18   | 1.05    |  220.56 |  1.03   | \n",
       "| Peru | 12.70   | 44.19   | 1.28    |  400.06 |  0.67   | \n",
       "| Philippines | 12.78   | 46.26   | 1.12    |  152.01 |  2.00   | \n",
       "| Portugal | 12.49   | 28.96   | 2.85    |  579.51 |  7.48   | \n",
       "| South Africa | 11.14   | 31.94   | 2.28    |  651.11 |  2.19   | \n",
       "| South Rhodesia | 13.30   | 31.92   | 1.52    |  250.96 |  2.00   | \n",
       "| Spain | 11.77   | 27.74   | 2.87    |  768.79 |  4.35   | \n",
       "| Sweden |  6.86   | 21.44   | 4.54    | 3299.49 |  3.01   | \n",
       "| Switzerland | 14.13   | 23.49   | 3.73    | 2630.96 |  2.70   | \n",
       "| Turkey |  5.13   | 43.42   | 1.08    |  389.66 |  2.96   | \n",
       "| Tunisia |  2.81   | 46.12   | 1.21    |  249.87 |  1.13   | \n",
       "| United Kingdom |  7.81   | 23.27   | 4.46    | 1813.93 |  2.01   | \n",
       "| United States |  7.56   | 29.81   | 3.43    | 4001.89 |  2.45   | \n",
       "| Venezuela |  9.22   | 46.40   | 0.90    |  813.39 |  0.53   | \n",
       "| Zambia | 18.56   | 45.25   | 0.56    |  138.33 |  5.14   | \n",
       "| Jamaica |  7.72   | 41.12   | 1.73    |  380.47 | 10.23   | \n",
       "| Uruguay |  9.24   | 28.13   | 2.72    |  766.54 |  1.88   | \n",
       "| Libya |  8.89   | 43.69   | 2.07    |  123.58 | 16.71   | \n",
       "| Malaysia |  4.71   | 47.20   | 0.66    |  242.69 |  5.08   | \n",
       "\n",
       "\n"
      ],
      "text/plain": [
       "               sr    pop15 pop75 dpi     ddpi \n",
       "Australia      11.43 29.35 2.87  2329.68  2.87\n",
       "Austria        12.07 23.32 4.41  1507.99  3.93\n",
       "Belgium        13.17 23.80 4.43  2108.47  3.82\n",
       "Bolivia         5.75 41.89 1.67   189.13  0.22\n",
       "Brazil         12.88 42.19 0.83   728.47  4.56\n",
       "Canada          8.79 31.72 2.85  2982.88  2.43\n",
       "Chile           0.60 39.74 1.34   662.86  2.67\n",
       "China          11.90 44.75 0.67   289.52  6.51\n",
       "Colombia        4.98 46.64 1.06   276.65  3.08\n",
       "Costa Rica     10.78 47.64 1.14   471.24  2.80\n",
       "Denmark        16.85 24.42 3.93  2496.53  3.99\n",
       "Ecuador         3.59 46.31 1.19   287.77  2.19\n",
       "Finland        11.24 27.84 2.37  1681.25  4.32\n",
       "France         12.64 25.06 4.70  2213.82  4.52\n",
       "Germany        12.55 23.31 3.35  2457.12  3.44\n",
       "Greece         10.67 25.62 3.10   870.85  6.28\n",
       "Guatamala       3.01 46.05 0.87   289.71  1.48\n",
       "Honduras        7.70 47.32 0.58   232.44  3.19\n",
       "Iceland         1.27 34.03 3.08  1900.10  1.12\n",
       "India           9.00 41.31 0.96    88.94  1.54\n",
       "Ireland        11.34 31.16 4.19  1139.95  2.99\n",
       "Italy          14.28 24.52 3.48  1390.00  3.54\n",
       "Japan          21.10 27.01 1.91  1257.28  8.21\n",
       "Korea           3.98 41.74 0.91   207.68  5.81\n",
       "Luxembourg     10.35 21.80 3.73  2449.39  1.57\n",
       "Malta          15.48 32.54 2.47   601.05  8.12\n",
       "Norway         10.25 25.95 3.67  2231.03  3.62\n",
       "Netherlands    14.65 24.71 3.25  1740.70  7.66\n",
       "New Zealand    10.67 32.61 3.17  1487.52  1.76\n",
       "Nicaragua       7.30 45.04 1.21   325.54  2.48\n",
       "Panama          4.44 43.56 1.20   568.56  3.61\n",
       "Paraguay        2.02 41.18 1.05   220.56  1.03\n",
       "Peru           12.70 44.19 1.28   400.06  0.67\n",
       "Philippines    12.78 46.26 1.12   152.01  2.00\n",
       "Portugal       12.49 28.96 2.85   579.51  7.48\n",
       "South Africa   11.14 31.94 2.28   651.11  2.19\n",
       "South Rhodesia 13.30 31.92 1.52   250.96  2.00\n",
       "Spain          11.77 27.74 2.87   768.79  4.35\n",
       "Sweden          6.86 21.44 4.54  3299.49  3.01\n",
       "Switzerland    14.13 23.49 3.73  2630.96  2.70\n",
       "Turkey          5.13 43.42 1.08   389.66  2.96\n",
       "Tunisia         2.81 46.12 1.21   249.87  1.13\n",
       "United Kingdom  7.81 23.27 4.46  1813.93  2.01\n",
       "United States   7.56 29.81 3.43  4001.89  2.45\n",
       "Venezuela       9.22 46.40 0.90   813.39  0.53\n",
       "Zambia         18.56 45.25 0.56   138.33  5.14\n",
       "Jamaica         7.72 41.12 1.73   380.47 10.23\n",
       "Uruguay         9.24 28.13 2.72   766.54  1.88\n",
       "Libya           8.89 43.69 2.07   123.58 16.71\n",
       "Malaysia        4.71 47.20 0.66   242.69  5.08"
      ]
     },
     "metadata": {},
     "output_type": "display_data"
    }
   ],
   "source": [
    "data(savings)\n",
    "savings\n",
    "# sr: aggregate personal saving / disposable income\n",
    "# pop15(75): % of population under 15 (75)\n",
    "# dpi: per-capita disposable income\n",
    "# ddpi: % change in dpi"
   ]
  },
  {
   "cell_type": "code",
   "execution_count": 42,
   "metadata": {},
   "outputs": [
    {
     "data": {
      "text/plain": [
       "       sr             pop15           pop75            dpi         \n",
       " Min.   : 0.600   Min.   :21.44   Min.   :0.560   Min.   :  88.94  \n",
       " 1st Qu.: 6.970   1st Qu.:26.21   1st Qu.:1.125   1st Qu.: 288.21  \n",
       " Median :10.510   Median :32.58   Median :2.175   Median : 695.66  \n",
       " Mean   : 9.671   Mean   :35.09   Mean   :2.293   Mean   :1106.76  \n",
       " 3rd Qu.:12.617   3rd Qu.:44.06   3rd Qu.:3.325   3rd Qu.:1795.62  \n",
       " Max.   :21.100   Max.   :47.64   Max.   :4.700   Max.   :4001.89  \n",
       "      ddpi       \n",
       " Min.   : 0.220  \n",
       " 1st Qu.: 2.002  \n",
       " Median : 3.000  \n",
       " Mean   : 3.758  \n",
       " 3rd Qu.: 4.478  \n",
       " Max.   :16.710  "
      ]
     },
     "metadata": {},
     "output_type": "display_data"
    }
   ],
   "source": [
    "summary(savings) # summary statistics"
   ]
  },
  {
   "cell_type": "code",
   "execution_count": 43,
   "metadata": {},
   "outputs": [],
   "source": [
    "# fitting linear model\n",
    "gfit <- lm(sr ~ pop15 + pop75 + dpi + ddpi, data = savings)"
   ]
  },
  {
   "cell_type": "code",
   "execution_count": 44,
   "metadata": {},
   "outputs": [
    {
     "data": {
      "text/plain": [
       "\n",
       "Call:\n",
       "lm(formula = sr ~ pop15 + pop75 + dpi + ddpi, data = savings)\n",
       "\n",
       "Residuals:\n",
       "    Min      1Q  Median      3Q     Max \n",
       "-8.2422 -2.6857 -0.2488  2.4280  9.7509 \n",
       "\n",
       "Coefficients:\n",
       "              Estimate Std. Error t value Pr(>|t|)    \n",
       "(Intercept) 28.5660865  7.3545161   3.884 0.000334 ***\n",
       "pop15       -0.4611931  0.1446422  -3.189 0.002603 ** \n",
       "pop75       -1.6914977  1.0835989  -1.561 0.125530    \n",
       "dpi         -0.0003369  0.0009311  -0.362 0.719173    \n",
       "ddpi         0.4096949  0.1961971   2.088 0.042471 *  \n",
       "---\n",
       "Signif. codes:  0 ‘***’ 0.001 ‘**’ 0.01 ‘*’ 0.05 ‘.’ 0.1 ‘ ’ 1\n",
       "\n",
       "Residual standard error: 3.803 on 45 degrees of freedom\n",
       "Multiple R-squared:  0.3385,\tAdjusted R-squared:  0.2797 \n",
       "F-statistic: 5.756 on 4 and 45 DF,  p-value: 0.0007904\n"
      ]
     },
     "metadata": {},
     "output_type": "display_data"
    }
   ],
   "source": [
    "summary(gfit)"
   ]
  },
  {
   "cell_type": "code",
   "execution_count": 45,
   "metadata": {},
   "outputs": [
    {
     "data": {
      "text/html": [
       "5.75568121992439"
      ],
      "text/latex": [
       "5.75568121992439"
      ],
      "text/markdown": [
       "5.75568121992439"
      ],
      "text/plain": [
       "[1] 5.755681"
      ]
     },
     "metadata": {},
     "output_type": "display_data"
    },
    {
     "data": {
      "text/html": [
       "0.000790377938795217"
      ],
      "text/latex": [
       "0.000790377938795217"
      ],
      "text/markdown": [
       "0.000790377938795217"
      ],
      "text/plain": [
       "[1] 0.0007903779"
      ]
     },
     "metadata": {},
     "output_type": "display_data"
    }
   ],
   "source": [
    "# computing F-statistic and p-value 'by hand'\n",
    "RSS_alt <- sum(gfit$residuals^2)\n",
    "RSS_nul <- sum((savings$sr - mean(savings$sr))^2)\n",
    "\n",
    "F_statistic <- ((RSS_nul - RSS_alt) / 4) / (RSS_alt / 45)\n",
    "F_statistic\n",
    "1 - pf(F_statistic, 4, 45)"
   ]
  },
  {
   "cell_type": "markdown",
   "metadata": {},
   "source": [
    "**3.2.2. F test on one predictors.** test against null hypothesis that one predictor $\\beta_i = 0$"
   ]
  },
  {
   "cell_type": "code",
   "execution_count": 33,
   "metadata": {},
   "outputs": [
    {
     "data": {
      "text/html": [
       "<ol class=list-inline>\n",
       "\t<li>'sr'</li>\n",
       "\t<li>'pop15'</li>\n",
       "\t<li>'pop75'</li>\n",
       "\t<li>'dpi'</li>\n",
       "\t<li>'ddpi'</li>\n",
       "</ol>\n"
      ],
      "text/latex": [
       "\\begin{enumerate*}\n",
       "\\item 'sr'\n",
       "\\item 'pop15'\n",
       "\\item 'pop75'\n",
       "\\item 'dpi'\n",
       "\\item 'ddpi'\n",
       "\\end{enumerate*}\n"
      ],
      "text/markdown": [
       "1. 'sr'\n",
       "2. 'pop15'\n",
       "3. 'pop75'\n",
       "4. 'dpi'\n",
       "5. 'ddpi'\n",
       "\n",
       "\n"
      ],
      "text/plain": [
       "[1] \"sr\"    \"pop15\" \"pop75\" \"dpi\"   \"ddpi\" "
      ]
     },
     "metadata": {},
     "output_type": "display_data"
    }
   ],
   "source": [
    "names(savings)"
   ]
  },
  {
   "cell_type": "code",
   "execution_count": 36,
   "metadata": {},
   "outputs": [
    {
     "data": {
      "text/plain": [
       "\n",
       "Call:\n",
       "lm(formula = sr ~ pop75 + dpi + ddpi, data = savings)\n",
       "\n",
       "Residuals:\n",
       "    Min      1Q  Median      3Q     Max \n",
       "-8.0577 -3.2144  0.1687  2.4260 10.0763 \n",
       "\n",
       "Coefficients:\n",
       "             Estimate Std. Error t value Pr(>|t|)    \n",
       "(Intercept) 5.4874944  1.4276619   3.844  0.00037 ***\n",
       "pop75       0.9528574  0.7637455   1.248  0.21849    \n",
       "dpi         0.0001972  0.0010030   0.197  0.84499    \n",
       "ddpi        0.4737951  0.2137272   2.217  0.03162 *  \n",
       "---\n",
       "Signif. codes:  0 ‘***’ 0.001 ‘**’ 0.01 ‘*’ 0.05 ‘.’ 0.1 ‘ ’ 1\n",
       "\n",
       "Residual standard error: 4.164 on 46 degrees of freedom\n",
       "Multiple R-squared:  0.189,\tAdjusted R-squared:  0.1361 \n",
       "F-statistic: 3.573 on 3 and 46 DF,  p-value: 0.02093\n"
      ]
     },
     "metadata": {},
     "output_type": "display_data"
    }
   ],
   "source": [
    "g2 <- lm(sr ~ pop75 + dpi + ddpi, data = savings)\n",
    "summary(g2)"
   ]
  },
  {
   "cell_type": "code",
   "execution_count": 39,
   "metadata": {},
   "outputs": [
    {
     "data": {
      "text/html": [
       "797.724892214538"
      ],
      "text/latex": [
       "797.724892214538"
      ],
      "text/markdown": [
       "797.724892214538"
      ],
      "text/plain": [
       "[1] 797.7249"
      ]
     },
     "metadata": {},
     "output_type": "display_data"
    },
    {
     "data": {
      "text/html": [
       "10.1665945674048"
      ],
      "text/latex": [
       "10.1665945674048"
      ],
      "text/markdown": [
       "10.1665945674048"
      ],
      "text/plain": [
       "[1] 10.16659"
      ]
     },
     "metadata": {},
     "output_type": "display_data"
    },
    {
     "data": {
      "text/html": [
       "0.00260301892866888"
      ],
      "text/latex": [
       "0.00260301892866888"
      ],
      "text/markdown": [
       "0.00260301892866888"
      ],
      "text/plain": [
       "[1] 0.002603019"
      ]
     },
     "metadata": {},
     "output_type": "display_data"
    }
   ],
   "source": [
    "# compare two models (ANOVA)\n",
    "RSS_nul <- sum(g2$res^2)\n",
    "F_statistic <- ((RSS_nul - RSS_alt) / 1) / (RSS_alt / 45)\n",
    "RSS_nul\n",
    "F_statistic\n",
    "1 - pf(F_statistic, 1, 45)"
   ]
  },
  {
   "cell_type": "code",
   "execution_count": 38,
   "metadata": {},
   "outputs": [
    {
     "data": {
      "text/html": [
       "<table>\n",
       "<thead><tr><th scope=col>Res.Df</th><th scope=col>RSS</th><th scope=col>Df</th><th scope=col>Sum of Sq</th><th scope=col>F</th><th scope=col>Pr(&gt;F)</th></tr></thead>\n",
       "<tbody>\n",
       "\t<tr><td>46         </td><td>797.7249   </td><td>NA         </td><td>      NA   </td><td>      NA   </td><td>         NA</td></tr>\n",
       "\t<tr><td>45         </td><td>650.7130   </td><td> 1         </td><td>147.0119   </td><td>10.16659   </td><td>0.002603019</td></tr>\n",
       "</tbody>\n",
       "</table>\n"
      ],
      "text/latex": [
       "\\begin{tabular}{r|llllll}\n",
       " Res.Df & RSS & Df & Sum of Sq & F & Pr(>F)\\\\\n",
       "\\hline\n",
       "\t 46          & 797.7249    & NA          &       NA    &       NA    &          NA\\\\\n",
       "\t 45          & 650.7130    &  1          & 147.0119    & 10.16659    & 0.002603019\\\\\n",
       "\\end{tabular}\n"
      ],
      "text/markdown": [
       "\n",
       "Res.Df | RSS | Df | Sum of Sq | F | Pr(>F) | \n",
       "|---|---|\n",
       "| 46          | 797.7249    | NA          |       NA    |       NA    |          NA | \n",
       "| 45          | 650.7130    |  1          | 147.0119    | 10.16659    | 0.002603019 | \n",
       "\n",
       "\n"
      ],
      "text/plain": [
       "  Res.Df RSS      Df Sum of Sq F        Pr(>F)     \n",
       "1 46     797.7249 NA       NA        NA          NA\n",
       "2 45     650.7130  1 147.0119  10.16659 0.002603019"
      ]
     },
     "metadata": {},
     "output_type": "display_data"
    }
   ],
   "source": [
    "# alternative method for ANOVA\n",
    "anova(g2, gfit)"
   ]
  },
  {
   "cell_type": "code",
   "execution_count": null,
   "metadata": {},
   "outputs": [],
   "source": [
    "# can use a t-statistic for each predictor, which is\n",
    "# beta_hat / SE(beta_hat)\n",
    "# note that pop15 has a t-statistic of -0.46 / 0.14 ~ -3.189\n",
    "# and that the corresponding probability (t-distribution, n-p df)\n",
    "# is 0.0026\n",
    "#\n",
    "# note that, here,\n",
    "# F-statistic = (t-statistic)**2\n",
    "# so approaches are identical"
   ]
  }
 ],
 "metadata": {
  "kernelspec": {
   "display_name": "R",
   "language": "R",
   "name": "ir"
  },
  "language_info": {
   "codemirror_mode": "r",
   "file_extension": ".r",
   "mimetype": "text/x-r-source",
   "name": "R",
   "pygments_lexer": "r",
   "version": "3.4.4"
  }
 },
 "nbformat": 4,
 "nbformat_minor": 2
}
