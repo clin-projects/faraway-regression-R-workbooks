{
 "cells": [
  {
   "cell_type": "markdown",
   "metadata": {},
   "source": [
    "# Workbook follows Section 2.12 of [Faraway 2002](https://cran.r-project.org/doc/contrib/Faraway-PRA.pdf)\n",
    "\n",
    "Galapagos Tortoise Data taken from [the accompanying R package](https://cran.r-project.org/web/packages/faraway/)\n",
    "\n",
    "Originally from [Johnson and Raven (1973)](http://science.sciencemag.org/content/179/4076/893.long)"
   ]
  },
  {
   "cell_type": "code",
   "execution_count": 11,
   "metadata": {},
   "outputs": [],
   "source": [
    "# global change of figure sizes\n",
    "# following: http://blog.revolutionanalytics.com/2015/09/resizing-plots-in-the-r-kernel-for-jupyter-notebooks.html\n",
    "\n",
    "library(repr)\n",
    "\n",
    "options(repr.plot.width = 4, repr.plot.height = 3)"
   ]
  },
  {
   "cell_type": "markdown",
   "metadata": {},
   "source": [
    "**Step 1.** Load data and pre-process"
   ]
  },
  {
   "cell_type": "code",
   "execution_count": 14,
   "metadata": {},
   "outputs": [
    {
     "data": {
      "text/html": [
       "<table>\n",
       "<thead><tr><th></th><th scope=col>Species</th><th scope=col>Endemics</th><th scope=col>Area</th><th scope=col>Elevation</th><th scope=col>Nearest</th><th scope=col>Scruz</th><th scope=col>Adjacent</th></tr></thead>\n",
       "<tbody>\n",
       "\t<tr><th scope=row>Baltra</th><td> 58    </td><td>23     </td><td>  25.09</td><td> 346   </td><td> 0.6   </td><td>  0.6  </td><td>   1.84</td></tr>\n",
       "\t<tr><th scope=row>Bartolome</th><td> 31    </td><td>21     </td><td>   1.24</td><td> 109   </td><td> 0.6   </td><td> 26.3  </td><td> 572.33</td></tr>\n",
       "\t<tr><th scope=row>Caldwell</th><td>  3    </td><td> 3     </td><td>   0.21</td><td> 114   </td><td> 2.8   </td><td> 58.7  </td><td>   0.78</td></tr>\n",
       "\t<tr><th scope=row>Champion</th><td> 25    </td><td> 9     </td><td>   0.10</td><td>  46   </td><td> 1.9   </td><td> 47.4  </td><td>   0.18</td></tr>\n",
       "\t<tr><th scope=row>Coamano</th><td>  2    </td><td> 1     </td><td>   0.05</td><td>  77   </td><td> 1.9   </td><td>  1.9  </td><td> 903.82</td></tr>\n",
       "\t<tr><th scope=row>Daphne.Major</th><td> 18    </td><td>11     </td><td>   0.34</td><td> 119   </td><td> 8.0   </td><td>  8.0  </td><td>   1.84</td></tr>\n",
       "\t<tr><th scope=row>Daphne.Minor</th><td> 24    </td><td> 0     </td><td>   0.08</td><td>  93   </td><td> 6.0   </td><td> 12.0  </td><td>   0.34</td></tr>\n",
       "\t<tr><th scope=row>Darwin</th><td> 10    </td><td> 7     </td><td>   2.33</td><td> 168   </td><td>34.1   </td><td>290.2  </td><td>   2.85</td></tr>\n",
       "\t<tr><th scope=row>Eden</th><td>  8    </td><td> 4     </td><td>   0.03</td><td>  71   </td><td> 0.4   </td><td>  0.4  </td><td>  17.95</td></tr>\n",
       "\t<tr><th scope=row>Enderby</th><td>  2    </td><td> 2     </td><td>   0.18</td><td> 112   </td><td> 2.6   </td><td> 50.2  </td><td>   0.10</td></tr>\n",
       "\t<tr><th scope=row>Espanola</th><td> 97    </td><td>26     </td><td>  58.27</td><td> 198   </td><td> 1.1   </td><td> 88.3  </td><td>   0.57</td></tr>\n",
       "\t<tr><th scope=row>Fernandina</th><td> 93    </td><td>35     </td><td> 634.49</td><td>1494   </td><td> 4.3   </td><td> 95.3  </td><td>4669.32</td></tr>\n",
       "\t<tr><th scope=row>Gardner1</th><td> 58    </td><td>17     </td><td>   0.57</td><td>  49   </td><td> 1.1   </td><td> 93.1  </td><td>  58.27</td></tr>\n",
       "\t<tr><th scope=row>Gardner2</th><td>  5    </td><td> 4     </td><td>   0.78</td><td> 227   </td><td> 4.6   </td><td> 62.2  </td><td>   0.21</td></tr>\n",
       "\t<tr><th scope=row>Genovesa</th><td> 40    </td><td>19     </td><td>  17.35</td><td>  76   </td><td>47.4   </td><td> 92.2  </td><td> 129.49</td></tr>\n",
       "\t<tr><th scope=row>Isabela</th><td>347    </td><td>89     </td><td>4669.32</td><td>1707   </td><td> 0.7   </td><td> 28.1  </td><td> 634.49</td></tr>\n",
       "\t<tr><th scope=row>Marchena</th><td> 51    </td><td>23     </td><td> 129.49</td><td> 343   </td><td>29.1   </td><td> 85.9  </td><td>  59.56</td></tr>\n",
       "\t<tr><th scope=row>Onslow</th><td>  2    </td><td> 2     </td><td>   0.01</td><td>  25   </td><td> 3.3   </td><td> 45.9  </td><td>   0.10</td></tr>\n",
       "\t<tr><th scope=row>Pinta</th><td>104    </td><td>37     </td><td>  59.56</td><td> 777   </td><td>29.1   </td><td>119.6  </td><td> 129.49</td></tr>\n",
       "\t<tr><th scope=row>Pinzon</th><td>108    </td><td>33     </td><td>  17.95</td><td> 458   </td><td>10.7   </td><td> 10.7  </td><td>   0.03</td></tr>\n",
       "\t<tr><th scope=row>Las.Plazas</th><td> 12    </td><td> 9     </td><td>   0.23</td><td>  94   </td><td> 0.5   </td><td>  0.6  </td><td>  25.09</td></tr>\n",
       "\t<tr><th scope=row>Rabida</th><td> 70    </td><td>30     </td><td>   4.89</td><td> 367   </td><td> 4.4   </td><td> 24.4  </td><td> 572.33</td></tr>\n",
       "\t<tr><th scope=row>SanCristobal</th><td>280    </td><td>65     </td><td> 551.62</td><td> 716   </td><td>45.2   </td><td> 66.6  </td><td>   0.57</td></tr>\n",
       "\t<tr><th scope=row>SanSalvador</th><td>237    </td><td>81     </td><td> 572.33</td><td> 906   </td><td> 0.2   </td><td> 19.8  </td><td>   4.89</td></tr>\n",
       "\t<tr><th scope=row>SantaCruz</th><td>444    </td><td>95     </td><td> 903.82</td><td> 864   </td><td> 0.6   </td><td>  0.0  </td><td>   0.52</td></tr>\n",
       "\t<tr><th scope=row>SantaFe</th><td> 62    </td><td>28     </td><td>  24.08</td><td> 259   </td><td>16.5   </td><td> 16.5  </td><td>   0.52</td></tr>\n",
       "\t<tr><th scope=row>SantaMaria</th><td>285    </td><td>73     </td><td> 170.92</td><td> 640   </td><td> 2.6   </td><td> 49.2  </td><td>   0.10</td></tr>\n",
       "\t<tr><th scope=row>Seymour</th><td> 44    </td><td>16     </td><td>   1.84</td><td> 147   </td><td> 0.6   </td><td>  9.6  </td><td>  25.09</td></tr>\n",
       "\t<tr><th scope=row>Tortuga</th><td> 16    </td><td> 8     </td><td>   1.24</td><td> 186   </td><td> 6.8   </td><td> 50.9  </td><td>  17.95</td></tr>\n",
       "\t<tr><th scope=row>Wolf</th><td> 21    </td><td>12     </td><td>   2.85</td><td> 253   </td><td>34.1   </td><td>254.7  </td><td>   2.33</td></tr>\n",
       "</tbody>\n",
       "</table>\n"
      ],
      "text/latex": [
       "\\begin{tabular}{r|lllllll}\n",
       "  & Species & Endemics & Area & Elevation & Nearest & Scruz & Adjacent\\\\\n",
       "\\hline\n",
       "\tBaltra &  58     & 23      &   25.09 &  346    &  0.6    &   0.6   &    1.84\\\\\n",
       "\tBartolome &  31     & 21      &    1.24 &  109    &  0.6    &  26.3   &  572.33\\\\\n",
       "\tCaldwell &   3     &  3      &    0.21 &  114    &  2.8    &  58.7   &    0.78\\\\\n",
       "\tChampion &  25     &  9      &    0.10 &   46    &  1.9    &  47.4   &    0.18\\\\\n",
       "\tCoamano &   2     &  1      &    0.05 &   77    &  1.9    &   1.9   &  903.82\\\\\n",
       "\tDaphne.Major &  18     & 11      &    0.34 &  119    &  8.0    &   8.0   &    1.84\\\\\n",
       "\tDaphne.Minor &  24     &  0      &    0.08 &   93    &  6.0    &  12.0   &    0.34\\\\\n",
       "\tDarwin &  10     &  7      &    2.33 &  168    & 34.1    & 290.2   &    2.85\\\\\n",
       "\tEden &   8     &  4      &    0.03 &   71    &  0.4    &   0.4   &   17.95\\\\\n",
       "\tEnderby &   2     &  2      &    0.18 &  112    &  2.6    &  50.2   &    0.10\\\\\n",
       "\tEspanola &  97     & 26      &   58.27 &  198    &  1.1    &  88.3   &    0.57\\\\\n",
       "\tFernandina &  93     & 35      &  634.49 & 1494    &  4.3    &  95.3   & 4669.32\\\\\n",
       "\tGardner1 &  58     & 17      &    0.57 &   49    &  1.1    &  93.1   &   58.27\\\\\n",
       "\tGardner2 &   5     &  4      &    0.78 &  227    &  4.6    &  62.2   &    0.21\\\\\n",
       "\tGenovesa &  40     & 19      &   17.35 &   76    & 47.4    &  92.2   &  129.49\\\\\n",
       "\tIsabela & 347     & 89      & 4669.32 & 1707    &  0.7    &  28.1   &  634.49\\\\\n",
       "\tMarchena &  51     & 23      &  129.49 &  343    & 29.1    &  85.9   &   59.56\\\\\n",
       "\tOnslow &   2     &  2      &    0.01 &   25    &  3.3    &  45.9   &    0.10\\\\\n",
       "\tPinta & 104     & 37      &   59.56 &  777    & 29.1    & 119.6   &  129.49\\\\\n",
       "\tPinzon & 108     & 33      &   17.95 &  458    & 10.7    &  10.7   &    0.03\\\\\n",
       "\tLas.Plazas &  12     &  9      &    0.23 &   94    &  0.5    &   0.6   &   25.09\\\\\n",
       "\tRabida &  70     & 30      &    4.89 &  367    &  4.4    &  24.4   &  572.33\\\\\n",
       "\tSanCristobal & 280     & 65      &  551.62 &  716    & 45.2    &  66.6   &    0.57\\\\\n",
       "\tSanSalvador & 237     & 81      &  572.33 &  906    &  0.2    &  19.8   &    4.89\\\\\n",
       "\tSantaCruz & 444     & 95      &  903.82 &  864    &  0.6    &   0.0   &    0.52\\\\\n",
       "\tSantaFe &  62     & 28      &   24.08 &  259    & 16.5    &  16.5   &    0.52\\\\\n",
       "\tSantaMaria & 285     & 73      &  170.92 &  640    &  2.6    &  49.2   &    0.10\\\\\n",
       "\tSeymour &  44     & 16      &    1.84 &  147    &  0.6    &   9.6   &   25.09\\\\\n",
       "\tTortuga &  16     &  8      &    1.24 &  186    &  6.8    &  50.9   &   17.95\\\\\n",
       "\tWolf &  21     & 12      &    2.85 &  253    & 34.1    & 254.7   &    2.33\\\\\n",
       "\\end{tabular}\n"
      ],
      "text/markdown": [
       "\n",
       "| <!--/--> | Species | Endemics | Area | Elevation | Nearest | Scruz | Adjacent | \n",
       "|---|---|---|---|---|---|---|---|---|---|---|---|---|---|---|---|---|---|---|---|---|---|---|---|---|---|---|---|---|---|\n",
       "| Baltra |  58     | 23      |   25.09 |  346    |  0.6    |   0.6   |    1.84 | \n",
       "| Bartolome |  31     | 21      |    1.24 |  109    |  0.6    |  26.3   |  572.33 | \n",
       "| Caldwell |   3     |  3      |    0.21 |  114    |  2.8    |  58.7   |    0.78 | \n",
       "| Champion |  25     |  9      |    0.10 |   46    |  1.9    |  47.4   |    0.18 | \n",
       "| Coamano |   2     |  1      |    0.05 |   77    |  1.9    |   1.9   |  903.82 | \n",
       "| Daphne.Major |  18     | 11      |    0.34 |  119    |  8.0    |   8.0   |    1.84 | \n",
       "| Daphne.Minor |  24     |  0      |    0.08 |   93    |  6.0    |  12.0   |    0.34 | \n",
       "| Darwin |  10     |  7      |    2.33 |  168    | 34.1    | 290.2   |    2.85 | \n",
       "| Eden |   8     |  4      |    0.03 |   71    |  0.4    |   0.4   |   17.95 | \n",
       "| Enderby |   2     |  2      |    0.18 |  112    |  2.6    |  50.2   |    0.10 | \n",
       "| Espanola |  97     | 26      |   58.27 |  198    |  1.1    |  88.3   |    0.57 | \n",
       "| Fernandina |  93     | 35      |  634.49 | 1494    |  4.3    |  95.3   | 4669.32 | \n",
       "| Gardner1 |  58     | 17      |    0.57 |   49    |  1.1    |  93.1   |   58.27 | \n",
       "| Gardner2 |   5     |  4      |    0.78 |  227    |  4.6    |  62.2   |    0.21 | \n",
       "| Genovesa |  40     | 19      |   17.35 |   76    | 47.4    |  92.2   |  129.49 | \n",
       "| Isabela | 347     | 89      | 4669.32 | 1707    |  0.7    |  28.1   |  634.49 | \n",
       "| Marchena |  51     | 23      |  129.49 |  343    | 29.1    |  85.9   |   59.56 | \n",
       "| Onslow |   2     |  2      |    0.01 |   25    |  3.3    |  45.9   |    0.10 | \n",
       "| Pinta | 104     | 37      |   59.56 |  777    | 29.1    | 119.6   |  129.49 | \n",
       "| Pinzon | 108     | 33      |   17.95 |  458    | 10.7    |  10.7   |    0.03 | \n",
       "| Las.Plazas |  12     |  9      |    0.23 |   94    |  0.5    |   0.6   |   25.09 | \n",
       "| Rabida |  70     | 30      |    4.89 |  367    |  4.4    |  24.4   |  572.33 | \n",
       "| SanCristobal | 280     | 65      |  551.62 |  716    | 45.2    |  66.6   |    0.57 | \n",
       "| SanSalvador | 237     | 81      |  572.33 |  906    |  0.2    |  19.8   |    4.89 | \n",
       "| SantaCruz | 444     | 95      |  903.82 |  864    |  0.6    |   0.0   |    0.52 | \n",
       "| SantaFe |  62     | 28      |   24.08 |  259    | 16.5    |  16.5   |    0.52 | \n",
       "| SantaMaria | 285     | 73      |  170.92 |  640    |  2.6    |  49.2   |    0.10 | \n",
       "| Seymour |  44     | 16      |    1.84 |  147    |  0.6    |   9.6   |   25.09 | \n",
       "| Tortuga |  16     |  8      |    1.24 |  186    |  6.8    |  50.9   |   17.95 | \n",
       "| Wolf |  21     | 12      |    2.85 |  253    | 34.1    | 254.7   |    2.33 | \n",
       "\n",
       "\n"
      ],
      "text/plain": [
       "             Species Endemics Area    Elevation Nearest Scruz Adjacent\n",
       "Baltra        58     23         25.09  346       0.6      0.6    1.84 \n",
       "Bartolome     31     21          1.24  109       0.6     26.3  572.33 \n",
       "Caldwell       3      3          0.21  114       2.8     58.7    0.78 \n",
       "Champion      25      9          0.10   46       1.9     47.4    0.18 \n",
       "Coamano        2      1          0.05   77       1.9      1.9  903.82 \n",
       "Daphne.Major  18     11          0.34  119       8.0      8.0    1.84 \n",
       "Daphne.Minor  24      0          0.08   93       6.0     12.0    0.34 \n",
       "Darwin        10      7          2.33  168      34.1    290.2    2.85 \n",
       "Eden           8      4          0.03   71       0.4      0.4   17.95 \n",
       "Enderby        2      2          0.18  112       2.6     50.2    0.10 \n",
       "Espanola      97     26         58.27  198       1.1     88.3    0.57 \n",
       "Fernandina    93     35        634.49 1494       4.3     95.3 4669.32 \n",
       "Gardner1      58     17          0.57   49       1.1     93.1   58.27 \n",
       "Gardner2       5      4          0.78  227       4.6     62.2    0.21 \n",
       "Genovesa      40     19         17.35   76      47.4     92.2  129.49 \n",
       "Isabela      347     89       4669.32 1707       0.7     28.1  634.49 \n",
       "Marchena      51     23        129.49  343      29.1     85.9   59.56 \n",
       "Onslow         2      2          0.01   25       3.3     45.9    0.10 \n",
       "Pinta        104     37         59.56  777      29.1    119.6  129.49 \n",
       "Pinzon       108     33         17.95  458      10.7     10.7    0.03 \n",
       "Las.Plazas    12      9          0.23   94       0.5      0.6   25.09 \n",
       "Rabida        70     30          4.89  367       4.4     24.4  572.33 \n",
       "SanCristobal 280     65        551.62  716      45.2     66.6    0.57 \n",
       "SanSalvador  237     81        572.33  906       0.2     19.8    4.89 \n",
       "SantaCruz    444     95        903.82  864       0.6      0.0    0.52 \n",
       "SantaFe       62     28         24.08  259      16.5     16.5    0.52 \n",
       "SantaMaria   285     73        170.92  640       2.6     49.2    0.10 \n",
       "Seymour       44     16          1.84  147       0.6      9.6   25.09 \n",
       "Tortuga       16      8          1.24  186       6.8     50.9   17.95 \n",
       "Wolf          21     12          2.85  253      34.1    254.7    2.33 "
      ]
     },
     "metadata": {},
     "output_type": "display_data"
    }
   ],
   "source": [
    "data(gala)\n",
    "gala"
   ]
  },
  {
   "cell_type": "code",
   "execution_count": 13,
   "metadata": {},
   "outputs": [
    {
     "data": {
      "text/plain": [
       "    Species          Endemics          Area            Elevation      \n",
       " Min.   :  2.00   Min.   : 0.00   Min.   :   0.010   Min.   :  25.00  \n",
       " 1st Qu.: 13.00   1st Qu.: 7.25   1st Qu.:   0.258   1st Qu.:  97.75  \n",
       " Median : 42.00   Median :18.00   Median :   2.590   Median : 192.00  \n",
       " Mean   : 85.23   Mean   :26.10   Mean   : 261.709   Mean   : 368.03  \n",
       " 3rd Qu.: 96.00   3rd Qu.:32.25   3rd Qu.:  59.237   3rd Qu.: 435.25  \n",
       " Max.   :444.00   Max.   :95.00   Max.   :4669.320   Max.   :1707.00  \n",
       "    Nearest          Scruz           Adjacent      \n",
       " Min.   : 0.20   Min.   :  0.00   Min.   :   0.03  \n",
       " 1st Qu.: 0.80   1st Qu.: 11.03   1st Qu.:   0.52  \n",
       " Median : 3.05   Median : 46.65   Median :   2.59  \n",
       " Mean   :10.06   Mean   : 56.98   Mean   : 261.10  \n",
       " 3rd Qu.:10.03   3rd Qu.: 81.08   3rd Qu.:  59.24  \n",
       " Max.   :47.40   Max.   :290.20   Max.   :4669.32  "
      ]
     },
     "metadata": {},
     "output_type": "display_data"
    }
   ],
   "source": [
    "summary(gala) # summary statistics"
   ]
  },
  {
   "cell_type": "code",
   "execution_count": 15,
   "metadata": {},
   "outputs": [],
   "source": [
    "# fitting linear model\n",
    "gfit <- lm(Species ~ Area + Elevation + Nearest + Scruz + Adjacent, data=gala)"
   ]
  },
  {
   "cell_type": "code",
   "execution_count": 16,
   "metadata": {},
   "outputs": [
    {
     "data": {
      "text/plain": [
       "\n",
       "Call:\n",
       "lm(formula = Species ~ Area + Elevation + Nearest + Scruz + Adjacent, \n",
       "    data = gala)\n",
       "\n",
       "Residuals:\n",
       "     Min       1Q   Median       3Q      Max \n",
       "-111.679  -34.898   -7.862   33.460  182.584 \n",
       "\n",
       "Coefficients:\n",
       "             Estimate Std. Error t value Pr(>|t|)    \n",
       "(Intercept)  7.068221  19.154198   0.369 0.715351    \n",
       "Area        -0.023938   0.022422  -1.068 0.296318    \n",
       "Elevation    0.319465   0.053663   5.953 3.82e-06 ***\n",
       "Nearest      0.009144   1.054136   0.009 0.993151    \n",
       "Scruz       -0.240524   0.215402  -1.117 0.275208    \n",
       "Adjacent    -0.074805   0.017700  -4.226 0.000297 ***\n",
       "---\n",
       "Signif. codes:  0 ‘***’ 0.001 ‘**’ 0.01 ‘*’ 0.05 ‘.’ 0.1 ‘ ’ 1\n",
       "\n",
       "Residual standard error: 60.98 on 24 degrees of freedom\n",
       "Multiple R-squared:  0.7658,\tAdjusted R-squared:  0.7171 \n",
       "F-statistic:  15.7 on 5 and 24 DF,  p-value: 6.838e-07\n"
      ]
     },
     "metadata": {},
     "output_type": "display_data"
    }
   ],
   "source": [
    "summary(gfit)"
   ]
  },
  {
   "cell_type": "code",
   "execution_count": 20,
   "metadata": {},
   "outputs": [],
   "source": [
    "# X matrix\n",
    "x <- cbind(1, gala[,-c(1,2)])\n",
    "x <- as.matrix(x) # force intro matrix form"
   ]
  },
  {
   "cell_type": "code",
   "execution_count": 21,
   "metadata": {},
   "outputs": [],
   "source": [
    "# response\n",
    "y <- gala$Species"
   ]
  },
  {
   "cell_type": "code",
   "execution_count": 22,
   "metadata": {},
   "outputs": [
    {
     "data": {
      "text/html": [
       "<table>\n",
       "<thead><tr><th></th><th scope=col>1</th><th scope=col>Area</th><th scope=col>Elevation</th><th scope=col>Nearest</th><th scope=col>Scruz</th><th scope=col>Adjacent</th></tr></thead>\n",
       "<tbody>\n",
       "\t<tr><th scope=row>1</th><td>   30.00   </td><td>    7851.26</td><td>   11041.0 </td><td>   301.80  </td><td>  1709.30  </td><td>    7832.95</td></tr>\n",
       "\t<tr><th scope=row>Area</th><td> 7851.26   </td><td>23708665.46</td><td>10852798.5 </td><td> 39240.84  </td><td>275516.84  </td><td> 5950313.65</td></tr>\n",
       "\t<tr><th scope=row>Elevation</th><td>11041.00   </td><td>10852798.53</td><td> 9218227.0 </td><td>109139.20  </td><td>616237.80  </td><td> 8553187.95</td></tr>\n",
       "\t<tr><th scope=row>Nearest</th><td>  301.80   </td><td>   39240.84</td><td>  109139.2 </td><td>  8945.30  </td><td> 34527.34  </td><td>   37196.67</td></tr>\n",
       "\t<tr><th scope=row>Scruz</th><td> 1709.30   </td><td>  275516.84</td><td>  616237.8 </td><td> 34527.34  </td><td>231613.77  </td><td>  534409.98</td></tr>\n",
       "\t<tr><th scope=row>Adjacent</th><td> 7832.95   </td><td> 5950313.65</td><td> 8553187.9 </td><td> 37196.67  </td><td>534409.98  </td><td>23719568.46</td></tr>\n",
       "</tbody>\n",
       "</table>\n"
      ],
      "text/latex": [
       "\\begin{tabular}{r|llllll}\n",
       "  & 1 & Area & Elevation & Nearest & Scruz & Adjacent\\\\\n",
       "\\hline\n",
       "\t1 &    30.00    &     7851.26 &    11041.0  &    301.80   &   1709.30   &     7832.95\\\\\n",
       "\tArea &  7851.26    & 23708665.46 & 10852798.5  &  39240.84   & 275516.84   &  5950313.65\\\\\n",
       "\tElevation & 11041.00    & 10852798.53 &  9218227.0  & 109139.20   & 616237.80   &  8553187.95\\\\\n",
       "\tNearest &   301.80    &    39240.84 &   109139.2  &   8945.30   &  34527.34   &    37196.67\\\\\n",
       "\tScruz &  1709.30    &   275516.84 &   616237.8  &  34527.34   & 231613.77   &   534409.98\\\\\n",
       "\tAdjacent &  7832.95    &  5950313.65 &  8553187.9  &  37196.67   & 534409.98   & 23719568.46\\\\\n",
       "\\end{tabular}\n"
      ],
      "text/markdown": [
       "\n",
       "| <!--/--> | 1 | Area | Elevation | Nearest | Scruz | Adjacent | \n",
       "|---|---|---|---|---|---|\n",
       "| 1 |    30.00    |     7851.26 |    11041.0  |    301.80   |   1709.30   |     7832.95 | \n",
       "| Area |  7851.26    | 23708665.46 | 10852798.5  |  39240.84   | 275516.84   |  5950313.65 | \n",
       "| Elevation | 11041.00    | 10852798.53 |  9218227.0  | 109139.20   | 616237.80   |  8553187.95 | \n",
       "| Nearest |   301.80    |    39240.84 |   109139.2  |   8945.30   |  34527.34   |    37196.67 | \n",
       "| Scruz |  1709.30    |   275516.84 |   616237.8  |  34527.34   | 231613.77   |   534409.98 | \n",
       "| Adjacent |  7832.95    |  5950313.65 |  8553187.9  |  37196.67   | 534409.98   | 23719568.46 | \n",
       "\n",
       "\n"
      ],
      "text/plain": [
       "          1        Area        Elevation  Nearest   Scruz     Adjacent   \n",
       "1            30.00     7851.26    11041.0    301.80   1709.30     7832.95\n",
       "Area       7851.26 23708665.46 10852798.5  39240.84 275516.84  5950313.65\n",
       "Elevation 11041.00 10852798.53  9218227.0 109139.20 616237.80  8553187.95\n",
       "Nearest     301.80    39240.84   109139.2   8945.30  34527.34    37196.67\n",
       "Scruz      1709.30   275516.84   616237.8  34527.34 231613.77   534409.98\n",
       "Adjacent   7832.95  5950313.65  8553187.9  37196.67 534409.98 23719568.46"
      ]
     },
     "metadata": {},
     "output_type": "display_data"
    }
   ],
   "source": [
    "# construct X^T.X\n",
    "# t() for transpose\n",
    "# %*% for matrix multiplication\n",
    "t(x) %*% x"
   ]
  },
  {
   "cell_type": "code",
   "execution_count": 36,
   "metadata": {},
   "outputs": [
    {
     "data": {
      "text/html": [
       "<table>\n",
       "<thead><tr><th></th><th scope=col>1</th><th scope=col>Area</th><th scope=col>Elevation</th><th scope=col>Nearest</th><th scope=col>Scruz</th><th scope=col>Adjacent</th></tr></thead>\n",
       "<tbody>\n",
       "\t<tr><th scope=row>1</th><td> 9.867829e-02</td><td> 3.778242e-05</td><td>-1.561976e-04</td><td>-2.339027e-04</td><td>-3.760293e-04</td><td> 2.309832e-05</td></tr>\n",
       "\t<tr><th scope=row>Area</th><td> 3.778242e-05</td><td> 1.352247e-07</td><td>-2.593617e-07</td><td> 1.294003e-06</td><td>-4.913149e-08</td><td> 4.620303e-08</td></tr>\n",
       "\t<tr><th scope=row>Elevation</th><td>-1.561976e-04</td><td>-2.593617e-07</td><td> 7.745339e-07</td><td>-3.549366e-06</td><td> 3.080831e-07</td><td>-1.640241e-07</td></tr>\n",
       "\t<tr><th scope=row>Nearest</th><td>-2.339027e-04</td><td> 1.294003e-06</td><td>-3.549366e-06</td><td> 2.988732e-04</td><td>-3.821077e-05</td><td> 1.424729e-06</td></tr>\n",
       "\t<tr><th scope=row>Scruz</th><td>-3.760293e-04</td><td>-4.913149e-08</td><td> 3.080831e-07</td><td>-3.821077e-05</td><td> 1.247941e-05</td><td>-1.958356e-07</td></tr>\n",
       "\t<tr><th scope=row>Adjacent</th><td> 2.309832e-05</td><td> 4.620303e-08</td><td>-1.640241e-07</td><td> 1.424729e-06</td><td>-1.958356e-07</td><td> 8.426543e-08</td></tr>\n",
       "</tbody>\n",
       "</table>\n"
      ],
      "text/latex": [
       "\\begin{tabular}{r|llllll}\n",
       "  & 1 & Area & Elevation & Nearest & Scruz & Adjacent\\\\\n",
       "\\hline\n",
       "\t1 &  9.867829e-02 &  3.778242e-05 & -1.561976e-04 & -2.339027e-04 & -3.760293e-04 &  2.309832e-05\\\\\n",
       "\tArea &  3.778242e-05 &  1.352247e-07 & -2.593617e-07 &  1.294003e-06 & -4.913149e-08 &  4.620303e-08\\\\\n",
       "\tElevation & -1.561976e-04 & -2.593617e-07 &  7.745339e-07 & -3.549366e-06 &  3.080831e-07 & -1.640241e-07\\\\\n",
       "\tNearest & -2.339027e-04 &  1.294003e-06 & -3.549366e-06 &  2.988732e-04 & -3.821077e-05 &  1.424729e-06\\\\\n",
       "\tScruz & -3.760293e-04 & -4.913149e-08 &  3.080831e-07 & -3.821077e-05 &  1.247941e-05 & -1.958356e-07\\\\\n",
       "\tAdjacent &  2.309832e-05 &  4.620303e-08 & -1.640241e-07 &  1.424729e-06 & -1.958356e-07 &  8.426543e-08\\\\\n",
       "\\end{tabular}\n"
      ],
      "text/markdown": [
       "\n",
       "| <!--/--> | 1 | Area | Elevation | Nearest | Scruz | Adjacent | \n",
       "|---|---|---|---|---|---|\n",
       "| 1 |  9.867829e-02 |  3.778242e-05 | -1.561976e-04 | -2.339027e-04 | -3.760293e-04 |  2.309832e-05 | \n",
       "| Area |  3.778242e-05 |  1.352247e-07 | -2.593617e-07 |  1.294003e-06 | -4.913149e-08 |  4.620303e-08 | \n",
       "| Elevation | -1.561976e-04 | -2.593617e-07 |  7.745339e-07 | -3.549366e-06 |  3.080831e-07 | -1.640241e-07 | \n",
       "| Nearest | -2.339027e-04 |  1.294003e-06 | -3.549366e-06 |  2.988732e-04 | -3.821077e-05 |  1.424729e-06 | \n",
       "| Scruz | -3.760293e-04 | -4.913149e-08 |  3.080831e-07 | -3.821077e-05 |  1.247941e-05 | -1.958356e-07 | \n",
       "| Adjacent |  2.309832e-05 |  4.620303e-08 | -1.640241e-07 |  1.424729e-06 | -1.958356e-07 |  8.426543e-08 | \n",
       "\n",
       "\n"
      ],
      "text/plain": [
       "          1             Area          Elevation     Nearest       Scruz        \n",
       "1          9.867829e-02  3.778242e-05 -1.561976e-04 -2.339027e-04 -3.760293e-04\n",
       "Area       3.778242e-05  1.352247e-07 -2.593617e-07  1.294003e-06 -4.913149e-08\n",
       "Elevation -1.561976e-04 -2.593617e-07  7.745339e-07 -3.549366e-06  3.080831e-07\n",
       "Nearest   -2.339027e-04  1.294003e-06 -3.549366e-06  2.988732e-04 -3.821077e-05\n",
       "Scruz     -3.760293e-04 -4.913149e-08  3.080831e-07 -3.821077e-05  1.247941e-05\n",
       "Adjacent   2.309832e-05  4.620303e-08 -1.640241e-07  1.424729e-06 -1.958356e-07\n",
       "          Adjacent     \n",
       "1          2.309832e-05\n",
       "Area       4.620303e-08\n",
       "Elevation -1.640241e-07\n",
       "Nearest    1.424729e-06\n",
       "Scruz     -1.958356e-07\n",
       "Adjacent   8.426543e-08"
      ]
     },
     "metadata": {},
     "output_type": "display_data"
    }
   ],
   "source": [
    "# solve() for inverse (i.e. (X^T X)^{-1})\n",
    "# x-T-x-inverse\n",
    "xtxi <- solve(t(x) %*% x)\n",
    "xtxi"
   ]
  },
  {
   "cell_type": "code",
   "execution_count": 37,
   "metadata": {},
   "outputs": [
    {
     "data": {
      "text/html": [
       "<table>\n",
       "<thead><tr><th></th><th scope=col>(Intercept)</th><th scope=col>Area</th><th scope=col>Elevation</th><th scope=col>Nearest</th><th scope=col>Scruz</th><th scope=col>Adjacent</th></tr></thead>\n",
       "<tbody>\n",
       "\t<tr><th scope=row>(Intercept)</th><td> 9.867829e-02</td><td> 3.778242e-05</td><td>-1.561976e-04</td><td>-2.339027e-04</td><td>-3.760293e-04</td><td> 2.309832e-05</td></tr>\n",
       "\t<tr><th scope=row>Area</th><td> 3.778242e-05</td><td> 1.352247e-07</td><td>-2.593617e-07</td><td> 1.294003e-06</td><td>-4.913149e-08</td><td> 4.620303e-08</td></tr>\n",
       "\t<tr><th scope=row>Elevation</th><td>-1.561976e-04</td><td>-2.593617e-07</td><td> 7.745339e-07</td><td>-3.549366e-06</td><td> 3.080831e-07</td><td>-1.640241e-07</td></tr>\n",
       "\t<tr><th scope=row>Nearest</th><td>-2.339027e-04</td><td> 1.294003e-06</td><td>-3.549366e-06</td><td> 2.988732e-04</td><td>-3.821077e-05</td><td> 1.424729e-06</td></tr>\n",
       "\t<tr><th scope=row>Scruz</th><td>-3.760293e-04</td><td>-4.913149e-08</td><td> 3.080831e-07</td><td>-3.821077e-05</td><td> 1.247941e-05</td><td>-1.958356e-07</td></tr>\n",
       "\t<tr><th scope=row>Adjacent</th><td> 2.309832e-05</td><td> 4.620303e-08</td><td>-1.640241e-07</td><td> 1.424729e-06</td><td>-1.958356e-07</td><td> 8.426543e-08</td></tr>\n",
       "</tbody>\n",
       "</table>\n"
      ],
      "text/latex": [
       "\\begin{tabular}{r|llllll}\n",
       "  & (Intercept) & Area & Elevation & Nearest & Scruz & Adjacent\\\\\n",
       "\\hline\n",
       "\t(Intercept) &  9.867829e-02 &  3.778242e-05 & -1.561976e-04 & -2.339027e-04 & -3.760293e-04 &  2.309832e-05\\\\\n",
       "\tArea &  3.778242e-05 &  1.352247e-07 & -2.593617e-07 &  1.294003e-06 & -4.913149e-08 &  4.620303e-08\\\\\n",
       "\tElevation & -1.561976e-04 & -2.593617e-07 &  7.745339e-07 & -3.549366e-06 &  3.080831e-07 & -1.640241e-07\\\\\n",
       "\tNearest & -2.339027e-04 &  1.294003e-06 & -3.549366e-06 &  2.988732e-04 & -3.821077e-05 &  1.424729e-06\\\\\n",
       "\tScruz & -3.760293e-04 & -4.913149e-08 &  3.080831e-07 & -3.821077e-05 &  1.247941e-05 & -1.958356e-07\\\\\n",
       "\tAdjacent &  2.309832e-05 &  4.620303e-08 & -1.640241e-07 &  1.424729e-06 & -1.958356e-07 &  8.426543e-08\\\\\n",
       "\\end{tabular}\n"
      ],
      "text/markdown": [
       "\n",
       "| <!--/--> | (Intercept) | Area | Elevation | Nearest | Scruz | Adjacent | \n",
       "|---|---|---|---|---|---|\n",
       "| (Intercept) |  9.867829e-02 |  3.778242e-05 | -1.561976e-04 | -2.339027e-04 | -3.760293e-04 |  2.309832e-05 | \n",
       "| Area |  3.778242e-05 |  1.352247e-07 | -2.593617e-07 |  1.294003e-06 | -4.913149e-08 |  4.620303e-08 | \n",
       "| Elevation | -1.561976e-04 | -2.593617e-07 |  7.745339e-07 | -3.549366e-06 |  3.080831e-07 | -1.640241e-07 | \n",
       "| Nearest | -2.339027e-04 |  1.294003e-06 | -3.549366e-06 |  2.988732e-04 | -3.821077e-05 |  1.424729e-06 | \n",
       "| Scruz | -3.760293e-04 | -4.913149e-08 |  3.080831e-07 | -3.821077e-05 |  1.247941e-05 | -1.958356e-07 | \n",
       "| Adjacent |  2.309832e-05 |  4.620303e-08 | -1.640241e-07 |  1.424729e-06 | -1.958356e-07 |  8.426543e-08 | \n",
       "\n",
       "\n"
      ],
      "text/plain": [
       "            (Intercept)   Area          Elevation     Nearest      \n",
       "(Intercept)  9.867829e-02  3.778242e-05 -1.561976e-04 -2.339027e-04\n",
       "Area         3.778242e-05  1.352247e-07 -2.593617e-07  1.294003e-06\n",
       "Elevation   -1.561976e-04 -2.593617e-07  7.745339e-07 -3.549366e-06\n",
       "Nearest     -2.339027e-04  1.294003e-06 -3.549366e-06  2.988732e-04\n",
       "Scruz       -3.760293e-04 -4.913149e-08  3.080831e-07 -3.821077e-05\n",
       "Adjacent     2.309832e-05  4.620303e-08 -1.640241e-07  1.424729e-06\n",
       "            Scruz         Adjacent     \n",
       "(Intercept) -3.760293e-04  2.309832e-05\n",
       "Area        -4.913149e-08  4.620303e-08\n",
       "Elevation    3.080831e-07 -1.640241e-07\n",
       "Nearest     -3.821077e-05  1.424729e-06\n",
       "Scruz        1.247941e-05 -1.958356e-07\n",
       "Adjacent    -1.958356e-07  8.426543e-08"
      ]
     },
     "metadata": {},
     "output_type": "display_data"
    }
   ],
   "source": [
    "# more direct way to get (X^T X)^{-1}\n",
    "gs <- summary(gfit)\n",
    "gs$cov.unscaled"
   ]
  },
  {
   "cell_type": "code",
   "execution_count": 38,
   "metadata": {},
   "outputs": [
    {
     "data": {
      "text/html": [
       "<ol class=list-inline>\n",
       "\t<li>'call'</li>\n",
       "\t<li>'terms'</li>\n",
       "\t<li>'residuals'</li>\n",
       "\t<li>'coefficients'</li>\n",
       "\t<li>'aliased'</li>\n",
       "\t<li>'sigma'</li>\n",
       "\t<li>'df'</li>\n",
       "\t<li>'r.squared'</li>\n",
       "\t<li>'adj.r.squared'</li>\n",
       "\t<li>'fstatistic'</li>\n",
       "\t<li>'cov.unscaled'</li>\n",
       "</ol>\n"
      ],
      "text/latex": [
       "\\begin{enumerate*}\n",
       "\\item 'call'\n",
       "\\item 'terms'\n",
       "\\item 'residuals'\n",
       "\\item 'coefficients'\n",
       "\\item 'aliased'\n",
       "\\item 'sigma'\n",
       "\\item 'df'\n",
       "\\item 'r.squared'\n",
       "\\item 'adj.r.squared'\n",
       "\\item 'fstatistic'\n",
       "\\item 'cov.unscaled'\n",
       "\\end{enumerate*}\n"
      ],
      "text/markdown": [
       "1. 'call'\n",
       "2. 'terms'\n",
       "3. 'residuals'\n",
       "4. 'coefficients'\n",
       "5. 'aliased'\n",
       "6. 'sigma'\n",
       "7. 'df'\n",
       "8. 'r.squared'\n",
       "9. 'adj.r.squared'\n",
       "10. 'fstatistic'\n",
       "11. 'cov.unscaled'\n",
       "\n",
       "\n"
      ],
      "text/plain": [
       " [1] \"call\"          \"terms\"         \"residuals\"     \"coefficients\" \n",
       " [5] \"aliased\"       \"sigma\"         \"df\"            \"r.squared\"    \n",
       " [9] \"adj.r.squared\" \"fstatistic\"    \"cov.unscaled\" "
      ]
     },
     "metadata": {},
     "output_type": "display_data"
    },
    {
     "data": {
      "text/html": [
       "<ol class=list-inline>\n",
       "\t<li>'coefficients'</li>\n",
       "\t<li>'residuals'</li>\n",
       "\t<li>'effects'</li>\n",
       "\t<li>'rank'</li>\n",
       "\t<li>'fitted.values'</li>\n",
       "\t<li>'assign'</li>\n",
       "\t<li>'qr'</li>\n",
       "\t<li>'df.residual'</li>\n",
       "\t<li>'xlevels'</li>\n",
       "\t<li>'call'</li>\n",
       "\t<li>'terms'</li>\n",
       "\t<li>'model'</li>\n",
       "</ol>\n"
      ],
      "text/latex": [
       "\\begin{enumerate*}\n",
       "\\item 'coefficients'\n",
       "\\item 'residuals'\n",
       "\\item 'effects'\n",
       "\\item 'rank'\n",
       "\\item 'fitted.values'\n",
       "\\item 'assign'\n",
       "\\item 'qr'\n",
       "\\item 'df.residual'\n",
       "\\item 'xlevels'\n",
       "\\item 'call'\n",
       "\\item 'terms'\n",
       "\\item 'model'\n",
       "\\end{enumerate*}\n"
      ],
      "text/markdown": [
       "1. 'coefficients'\n",
       "2. 'residuals'\n",
       "3. 'effects'\n",
       "4. 'rank'\n",
       "5. 'fitted.values'\n",
       "6. 'assign'\n",
       "7. 'qr'\n",
       "8. 'df.residual'\n",
       "9. 'xlevels'\n",
       "10. 'call'\n",
       "11. 'terms'\n",
       "12. 'model'\n",
       "\n",
       "\n"
      ],
      "text/plain": [
       " [1] \"coefficients\"  \"residuals\"     \"effects\"       \"rank\"         \n",
       " [5] \"fitted.values\" \"assign\"        \"qr\"            \"df.residual\"  \n",
       " [9] \"xlevels\"       \"call\"          \"terms\"         \"model\"        "
      ]
     },
     "metadata": {},
     "output_type": "display_data"
    }
   ],
   "source": [
    "# use names() to see components of an object\n",
    "names(gs)\n",
    "names(gfit)"
   ]
  },
  {
   "cell_type": "code",
   "execution_count": 40,
   "metadata": {},
   "outputs": [
    {
     "data": {
      "text/html": [
       "<table>\n",
       "<tbody>\n",
       "\t<tr><th scope=row>1</th><td> 7.068220709</td></tr>\n",
       "\t<tr><th scope=row>Area</th><td>-0.023938338</td></tr>\n",
       "\t<tr><th scope=row>Elevation</th><td> 0.319464761</td></tr>\n",
       "\t<tr><th scope=row>Nearest</th><td> 0.009143961</td></tr>\n",
       "\t<tr><th scope=row>Scruz</th><td>-0.240524230</td></tr>\n",
       "\t<tr><th scope=row>Adjacent</th><td>-0.074804832</td></tr>\n",
       "</tbody>\n",
       "</table>\n"
      ],
      "text/latex": [
       "\\begin{tabular}{r|l}\n",
       "\t1 &  7.068220709\\\\\n",
       "\tArea & -0.023938338\\\\\n",
       "\tElevation &  0.319464761\\\\\n",
       "\tNearest &  0.009143961\\\\\n",
       "\tScruz & -0.240524230\\\\\n",
       "\tAdjacent & -0.074804832\\\\\n",
       "\\end{tabular}\n"
      ],
      "text/markdown": [
       "\n",
       "| 1 |  7.068220709 | \n",
       "| Area | -0.023938338 | \n",
       "| Elevation |  0.319464761 | \n",
       "| Nearest |  0.009143961 | \n",
       "| Scruz | -0.240524230 | \n",
       "| Adjacent | -0.074804832 | \n",
       "\n",
       "\n"
      ],
      "text/plain": [
       "          [,1]        \n",
       "1          7.068220709\n",
       "Area      -0.023938338\n",
       "Elevation  0.319464761\n",
       "Nearest    0.009143961\n",
       "Scruz     -0.240524230\n",
       "Adjacent  -0.074804832"
      ]
     },
     "metadata": {},
     "output_type": "display_data"
    }
   ],
   "source": [
    "# beta-hat (LSE) directly\n",
    "xtxi %*% t(x) %*% y"
   ]
  }
 ],
 "metadata": {
  "kernelspec": {
   "display_name": "R",
   "language": "R",
   "name": "ir"
  },
  "language_info": {
   "codemirror_mode": "r",
   "file_extension": ".r",
   "mimetype": "text/x-r-source",
   "name": "R",
   "pygments_lexer": "r",
   "version": "3.4.4"
  }
 },
 "nbformat": 4,
 "nbformat_minor": 2
}
